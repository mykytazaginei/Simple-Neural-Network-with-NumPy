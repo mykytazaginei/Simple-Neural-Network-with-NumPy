{
  "nbformat": 4,
  "nbformat_minor": 0,
  "metadata": {
    "colab": {
      "provenance": [],
      "authorship_tag": "ABX9TyNxdo55uyeqK3Kn63iK7v/z"
    },
    "kernelspec": {
      "name": "python3",
      "display_name": "Python 3"
    },
    "language_info": {
      "name": "python"
    }
  },
  "cells": [
    {
      "cell_type": "markdown",
      "source": [
        "## Simple Neural Network with NumPy"
      ],
      "metadata": {
        "id": "WXzveDUUe4a_"
      }
    },
    {
      "cell_type": "code",
      "execution_count": 2,
      "metadata": {
        "id": "QXUGE6bfXbA-"
      },
      "outputs": [],
      "source": [
        "import numpy as np\n",
        "import tensorflow as tf"
      ]
    },
    {
      "cell_type": "markdown",
      "source": [
        "# DataSet\n",
        "\n",
        "I use function for genereating random data"
      ],
      "metadata": {
        "id": "NIDGKSjafJ3v"
      }
    },
    {
      "cell_type": "code",
      "source": [
        "def load_coffee_data():\n",
        "    \"\"\" Creates a coffee roasting data set.\n",
        "        roasting duration: 12-15 minutes is best\n",
        "        temperature range: 175-260C is best\n",
        "    \"\"\"\n",
        "    rng = np.random.default_rng(2)\n",
        "    X = rng.random(400).reshape(-1,2)\n",
        "    X[:,1] = X[:,1] * 4 + 11.5          # 12-15 min is best\n",
        "    X[:,0] = X[:,0] * (285-150) + 150  # 350-500 F (175-260 C) is best\n",
        "    Y = np.zeros(len(X))\n",
        "\n",
        "    i=0\n",
        "    for t,d in X:\n",
        "        y = -3/(260-175)*t + 21\n",
        "        if (t > 175 and t < 260 and d > 12 and d < 15 and d<=y ):\n",
        "            Y[i] = 1\n",
        "        else:\n",
        "            Y[i] = 0\n",
        "        i += 1\n",
        "\n",
        "    return (X, Y.reshape(-1,1))"
      ],
      "metadata": {
        "id": "iGw3F39wfWKy"
      },
      "execution_count": 3,
      "outputs": []
    },
    {
      "cell_type": "code",
      "source": [
        "X, y = load_coffee_data()\n",
        "print(X.shape, y.shape)"
      ],
      "metadata": {
        "colab": {
          "base_uri": "https://localhost:8080/"
        },
        "id": "_VH6MnMnfZ88",
        "outputId": "4902f71f-a9a8-4885-b6a2-5382981cc2d5"
      },
      "execution_count": 4,
      "outputs": [
        {
          "output_type": "stream",
          "name": "stdout",
          "text": [
            "(200, 2) (200, 1)\n"
          ]
        }
      ]
    },
    {
      "cell_type": "markdown",
      "source": [
        "# Normalization of data\n",
        "I normalaze data with tensorflow"
      ],
      "metadata": {
        "id": "Jdf8vN17fh4L"
      }
    },
    {
      "cell_type": "code",
      "source": [
        "print(f\"Temperature Max, Min pre normalization: {np.max(X[:,0])}, {np.min(X[:,0])}\")\n",
        "print(f\"Duration    Max, Min pre normalization: {np.max(X[:,1])}, {np.min(X[:,1])}\")\n",
        "norm_l = tf.keras.layers.Normalization(axis=1)\n",
        "norm_l.adapt(X)\n",
        "Xn = norm_l(X)\n",
        "print(f\"Temperature Max, Min post normalization: {np.max(Xn[:,0])}, {np.min(Xn[:,0])}\")\n",
        "print(f\"Duration    Max, Min post normalization: {np.max(Xn[:,1])}, {np.min(Xn[:,1])}\")"
      ],
      "metadata": {
        "colab": {
          "base_uri": "https://localhost:8080/"
        },
        "id": "EN9-6CQrftr_",
        "outputId": "c99449ca-7d7f-482f-fda3-a0156c7218bd"
      },
      "execution_count": 5,
      "outputs": [
        {
          "output_type": "stream",
          "name": "stdout",
          "text": [
            "Temperature Max, Min pre normalization: 284.99434167453603, 151.32372212128612\n",
            "Duration    Max, Min pre normalization: 15.454206928801511, 11.512747082472469\n",
            "Temperature Max, Min post normalization: 1.659753680229187, -1.6852186918258667\n",
            "Duration    Max, Min post normalization: 1.793238878250122, -1.6996712684631348\n"
          ]
        }
      ]
    },
    {
      "cell_type": "markdown",
      "source": [
        "# Numpy Model"
      ],
      "metadata": {
        "id": "wWYYdTXsgVQ0"
      }
    },
    {
      "cell_type": "code",
      "source": [
        "def sigmoid(z):\n",
        "    \"\"\"\n",
        "    Compute the sigmoid of z\n",
        "\n",
        "    Parameters\n",
        "    ----------\n",
        "    z : array_like\n",
        "        A scalar or numpy array of any size.\n",
        "\n",
        "    Returns\n",
        "    -------\n",
        "     g : array_like\n",
        "         sigmoid(z)\n",
        "    \"\"\"\n",
        "    z = np.clip( z, -500, 500 )           # protect against overflow\n",
        "    g = 1.0/(1.0+np.exp(-z))\n",
        "\n",
        "    return g\n",
        "\n",
        "g = sigmoid # the activation function"
      ],
      "metadata": {
        "id": "SuNBTZKOgZzY"
      },
      "execution_count": 1,
      "outputs": []
    },
    {
      "cell_type": "code",
      "source": [
        "def my_dense(a_in, W, b):\n",
        "  units = W.shape[1]\n",
        "  a_out = np.zeros(units)\n",
        "  for j in range(units):\n",
        "    w = W[:,j]\n",
        "    z = np.dot(w, a_in) + b[j]\n",
        "    a_out[j] = g(z)\n",
        "  return a_out\n",
        "\n",
        "def my_sequential(a, W1, b1, W2, b2):\n",
        "  a1 = my_dense(a, W1, b1)\n",
        "  a2 = my_dense(a1, W2, b2)\n",
        "  return a2"
      ],
      "metadata": {
        "id": "5Us_ps7Xgt2A"
      },
      "execution_count": 21,
      "outputs": []
    },
    {
      "cell_type": "code",
      "source": [
        "W1_tmp = np.array( [[-8.93,  0.29, 12.9 ], [-0.1,  -7.32, 10.81]] )\n",
        "b1_tmp = np.array( [-9.82, -9.28,  0.96] )\n",
        "W2_tmp = np.array( [[-31.18], [-27.59], [-32.56]] )\n",
        "b2_tmp = np.array( [15.41] )"
      ],
      "metadata": {
        "id": "I59rnkNFplgL"
      },
      "execution_count": 22,
      "outputs": []
    },
    {
      "cell_type": "code",
      "source": [
        "def my_predict(X, W1, b1, W2, b2):\n",
        "  m = X.shape[0]\n",
        "  p = np.zeros((m, 1))\n",
        "  for i in range(m):\n",
        "    p[i, 0] = my_sequential(X[i], W1, b1, W2, b2)\n",
        "  return p"
      ],
      "metadata": {
        "id": "6qwZ_LWRrUiU"
      },
      "execution_count": 23,
      "outputs": []
    },
    {
      "cell_type": "markdown",
      "source": [
        "We can try this routine on two examples:"
      ],
      "metadata": {
        "id": "9SbhGoOpr-tt"
      }
    },
    {
      "cell_type": "code",
      "source": [
        "X_tst = np.array([\n",
        "    [200,13.9],  # postive example\n",
        "    [200,17]])   # negative example\n",
        "X_tstn = norm_l(X_tst)  # remember to normalize\n",
        "predictions = my_predict(X_tstn, W1_tmp, b1_tmp, W2_tmp, b2_tmp)"
      ],
      "metadata": {
        "colab": {
          "base_uri": "https://localhost:8080/"
        },
        "id": "uUYYSZ_zr7PR",
        "outputId": "aad32896-a31e-4a39-b558-3676fbe7adb5"
      },
      "execution_count": 24,
      "outputs": [
        {
          "output_type": "stream",
          "name": "stderr",
          "text": [
            "<ipython-input-23-d4a19ace6461>:5: DeprecationWarning: Conversion of an array with ndim > 0 to a scalar is deprecated, and will error in future. Ensure you extract a single element from your array before performing this operation. (Deprecated NumPy 1.25.)\n",
            "  p[i, 0] = my_sequential(X[i], W1, b1, W2, b2)\n"
          ]
        }
      ]
    },
    {
      "cell_type": "code",
      "source": [
        "yhat = np.zeros_like(predictions)\n",
        "\n",
        "for i in range(len(predictions)):\n",
        "  if predictions[i] >= 0.5:\n",
        "    yhat[i] = 1\n",
        "  else:\n",
        "    yhat[i] = 0\n",
        "print(f\"decisions = \\n{yhat}\")"
      ],
      "metadata": {
        "colab": {
          "base_uri": "https://localhost:8080/"
        },
        "id": "jgVnjaxrsyXV",
        "outputId": "682fc0e1-70cb-417a-a8f8-d0d918449619"
      },
      "execution_count": 26,
      "outputs": [
        {
          "output_type": "stream",
          "name": "stdout",
          "text": [
            "decisions = \n",
            "[[1.]\n",
            " [0.]]\n"
          ]
        }
      ]
    }
  ]
}